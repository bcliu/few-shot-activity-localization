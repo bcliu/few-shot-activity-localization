{
 "cells": [
  {
   "cell_type": "code",
   "execution_count": 15,
   "metadata": {},
   "outputs": [],
   "source": [
    "train_classes = ['BaseballPitch', 'BasketballDunk', 'Billiards', 'CleanAndJerk', 'CliffDiving', 'CricketBowling']\n",
    "test_classes = ['CricketShot', 'Diving', 'FrisbeeCatch', 'GolfSwing', 'HammerThrow', 'HighJump', 'JavelinThrow',\n",
    "                'LongJump', 'PoleVault', 'Shotput', 'SoccerPenalty', 'TennisSwing', 'ThrowDiscus', 'VolleyballSpiking']"
   ]
  },
  {
   "cell_type": "code",
   "execution_count": 16,
   "metadata": {},
   "outputs": [
    {
     "name": "stdout",
     "output_type": "stream",
     "text": [
      "{'video_test_0001447', 'video_test_0000964', 'video_test_0001038', 'video_test_0000767', 'video_test_0000873', 'video_test_0001324', 'video_test_0001182', 'video_test_0000664', 'video_test_0000714', 'video_test_0000324', 'video_test_0000946'}\n"
     ]
    }
   ],
   "source": [
    "with open('annotations_test/BaseballPitch_test.txt') as file:\n",
    "    cur_set = set(x.split(' ')[0] for x in file.readlines())\n",
    "\n",
    "print(cur_set)"
   ]
  },
  {
   "cell_type": "code",
   "execution_count": 17,
   "metadata": {},
   "outputs": [],
   "source": [
    "# training set from test dir\n",
    "training_class_set = set()\n",
    "for cls in train_classes:\n",
    "    file_name = 'annotations_test/'+cls+'_test.txt'\n",
    "    with open(file_name, 'r') as file:\n",
    "        cur_set = set('frames/test/'+line.split(' ')[0] for line in file.readlines())\n",
    "    training_class_set = training_class_set.union(cur_set)\n",
    "    file.close()\n",
    "    \n",
    "with open('training_data_annot_test.txt', 'w') as file:\n",
    "    for word in training_class_set:\n",
    "        file.write(word + ' ')"
   ]
  },
  {
   "cell_type": "code",
   "execution_count": 18,
   "metadata": {},
   "outputs": [],
   "source": [
    "# testing set from test dir\n",
    "testing_class_set = set()\n",
    "for cls in test_classes:\n",
    "    file_name = 'annotations_test/'+cls+'_test.txt'\n",
    "    with open(file_name, 'r') as file:\n",
    "        cur_set = set('frames/test/'+line.split(' ')[0] for line in file.readlines())\n",
    "    testing_class_set = testing_class_set.union(cur_set)\n",
    "    file.close()\n",
    "    \n",
    "with open('testing_data_annot_test.txt', 'w') as file:\n",
    "    for word in testing_class_set:\n",
    "        file.write(word + ' ')"
   ]
  },
  {
   "cell_type": "code",
   "execution_count": 19,
   "metadata": {},
   "outputs": [],
   "source": [
    "# training set from val dir\n",
    "training_class_set = set()\n",
    "for cls in train_classes:\n",
    "    file_name = 'annotations_val/'+cls+'_val.txt'\n",
    "    with open(file_name, 'r') as file:\n",
    "        cur_set = set('frames/val/'+line.split(' ')[0] for line in file.readlines())\n",
    "    training_class_set = training_class_set.union(cur_set)\n",
    "    file.close()\n",
    "    \n",
    "with open('training_data_annot_val.txt', 'w') as file:\n",
    "    for word in training_class_set:\n",
    "        file.write(word + ' ')"
   ]
  },
  {
   "cell_type": "code",
   "execution_count": 20,
   "metadata": {},
   "outputs": [],
   "source": [
    "# testing set from test dir\n",
    "testing_class_set = set()\n",
    "for cls in test_classes:\n",
    "    file_name = 'annotations_val/'+cls+'_val.txt'\n",
    "    with open(file_name, 'r') as file:\n",
    "        cur_set = set('frames/val/'+line.split(' ')[0] for line in file.readlines())\n",
    "    testing_class_set = testing_class_set.union(cur_set)\n",
    "    file.close()\n",
    "    \n",
    "with open('testing_data_annot_val.txt', 'w') as file:\n",
    "    for word in testing_class_set:\n",
    "        file.write(word + ' ')"
   ]
  },
  {
   "cell_type": "code",
   "execution_count": null,
   "metadata": {},
   "outputs": [],
   "source": []
  }
 ],
 "metadata": {
  "kernelspec": {
   "display_name": "Python 3",
   "language": "python",
   "name": "python3"
  },
  "language_info": {
   "codemirror_mode": {
    "name": "ipython",
    "version": 3
   },
   "file_extension": ".py",
   "mimetype": "text/x-python",
   "name": "python",
   "nbconvert_exporter": "python",
   "pygments_lexer": "ipython3",
   "version": "3.6.7"
  }
 },
 "nbformat": 4,
 "nbformat_minor": 2
}
